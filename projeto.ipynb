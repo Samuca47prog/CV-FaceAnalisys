{
 "cells": [
  {
   "attachments": {},
   "cell_type": "markdown",
   "metadata": {},
   "source": [
    "# 1. MediaPipe"
   ]
  },
  {
   "attachments": {},
   "cell_type": "markdown",
   "metadata": {},
   "source": [
    "## Instalação das bibliotecas"
   ]
  },
  {
   "cell_type": "code",
   "execution_count": 1,
   "metadata": {},
   "outputs": [
    {
     "name": "stdout",
     "output_type": "stream",
     "text": [
      "Requirement already satisfied: opencv-python==4.6.0.66 in c:\\users\\samue\\appdata\\local\\programs\\python\\python310\\lib\\site-packages (4.6.0.66)\n",
      "Requirement already satisfied: numpy>=1.19.3 in c:\\users\\samue\\appdata\\local\\programs\\python\\python310\\lib\\site-packages (from opencv-python==4.6.0.66) (1.22.3)\n"
     ]
    },
    {
     "name": "stderr",
     "output_type": "stream",
     "text": [
      "\n",
      "[notice] A new release of pip is available: 23.0.1 -> 23.1\n",
      "[notice] To update, run: python.exe -m pip install --upgrade pip\n"
     ]
    },
    {
     "name": "stdout",
     "output_type": "stream",
     "text": [
      "Requirement already satisfied: mediapipe==0.8.11 in c:\\users\\samue\\appdata\\local\\programs\\python\\python310\\lib\\site-packages (0.8.11)\n",
      "Requirement already satisfied: attrs>=19.1.0 in c:\\users\\samue\\appdata\\local\\programs\\python\\python310\\lib\\site-packages (from mediapipe==0.8.11) (22.2.0)\n",
      "Requirement already satisfied: opencv-contrib-python in c:\\users\\samue\\appdata\\local\\programs\\python\\python310\\lib\\site-packages (from mediapipe==0.8.11) (4.7.0.72)\n",
      "Requirement already satisfied: protobuf<4,>=3.11 in c:\\users\\samue\\appdata\\local\\programs\\python\\python310\\lib\\site-packages (from mediapipe==0.8.11) (3.20.3)\n",
      "Requirement already satisfied: absl-py in c:\\users\\samue\\appdata\\local\\programs\\python\\python310\\lib\\site-packages (from mediapipe==0.8.11) (1.4.0)\n",
      "Requirement already satisfied: matplotlib in c:\\users\\samue\\appdata\\local\\programs\\python\\python310\\lib\\site-packages (from mediapipe==0.8.11) (3.7.1)\n",
      "Requirement already satisfied: numpy in c:\\users\\samue\\appdata\\local\\programs\\python\\python310\\lib\\site-packages (from mediapipe==0.8.11) (1.22.3)\n",
      "Requirement already satisfied: python-dateutil>=2.7 in c:\\users\\samue\\appdata\\roaming\\python\\python310\\site-packages (from matplotlib->mediapipe==0.8.11) (2.8.2)\n",
      "Requirement already satisfied: pyparsing>=2.3.1 in c:\\users\\samue\\appdata\\local\\programs\\python\\python310\\lib\\site-packages (from matplotlib->mediapipe==0.8.11) (3.0.9)\n",
      "Requirement already satisfied: cycler>=0.10 in c:\\users\\samue\\appdata\\local\\programs\\python\\python310\\lib\\site-packages (from matplotlib->mediapipe==0.8.11) (0.11.0)\n",
      "Requirement already satisfied: kiwisolver>=1.0.1 in c:\\users\\samue\\appdata\\local\\programs\\python\\python310\\lib\\site-packages (from matplotlib->mediapipe==0.8.11) (1.4.4)\n",
      "Requirement already satisfied: pillow>=6.2.0 in c:\\users\\samue\\appdata\\local\\programs\\python\\python310\\lib\\site-packages (from matplotlib->mediapipe==0.8.11) (9.4.0)\n",
      "Requirement already satisfied: fonttools>=4.22.0 in c:\\users\\samue\\appdata\\local\\programs\\python\\python310\\lib\\site-packages (from matplotlib->mediapipe==0.8.11) (4.39.3)\n",
      "Requirement already satisfied: packaging>=20.0 in c:\\users\\samue\\appdata\\local\\programs\\python\\python310\\lib\\site-packages (from matplotlib->mediapipe==0.8.11) (23.0)\n",
      "Requirement already satisfied: contourpy>=1.0.1 in c:\\users\\samue\\appdata\\local\\programs\\python\\python310\\lib\\site-packages (from matplotlib->mediapipe==0.8.11) (1.0.7)\n",
      "Requirement already satisfied: six>=1.5 in c:\\users\\samue\\appdata\\local\\programs\\python\\python310\\lib\\site-packages (from python-dateutil>=2.7->matplotlib->mediapipe==0.8.11) (1.16.0)\n"
     ]
    },
    {
     "name": "stderr",
     "output_type": "stream",
     "text": [
      "\n",
      "[notice] A new release of pip is available: 23.0.1 -> 23.1\n",
      "[notice] To update, run: python.exe -m pip install --upgrade pip\n"
     ]
    },
    {
     "name": "stdout",
     "output_type": "stream",
     "text": [
      "Requirement already satisfied: numpy==1.22.3 in c:\\users\\samue\\appdata\\local\\programs\\python\\python310\\lib\\site-packages (1.22.3)\n"
     ]
    },
    {
     "name": "stderr",
     "output_type": "stream",
     "text": [
      "\n",
      "[notice] A new release of pip is available: 23.0.1 -> 23.1\n",
      "[notice] To update, run: python.exe -m pip install --upgrade pip\n"
     ]
    }
   ],
   "source": [
    "!pip install opencv-python==4.6.0.66\n",
    "!pip install mediapipe==0.8.11\n",
    "!pip install numpy==1.22.3"
   ]
  },
  {
   "cell_type": "code",
   "execution_count": 2,
   "metadata": {},
   "outputs": [],
   "source": [
    "import cv2\n",
    "import mediapipe as mp"
   ]
  },
  {
   "attachments": {},
   "cell_type": "markdown",
   "metadata": {},
   "source": [
    "Objetos usados para identificar a face"
   ]
  },
  {
   "cell_type": "code",
   "execution_count": 6,
   "metadata": {},
   "outputs": [],
   "source": [
    "mp_drawing = mp.solutions.drawing_utils\n",
    "mp_face_mesh = mp.solutions.face_mesh"
   ]
  },
  {
   "attachments": {},
   "cell_type": "markdown",
   "metadata": {},
   "source": [
    "## Lendo a webcam"
   ]
  },
  {
   "attachments": {},
   "cell_type": "markdown",
   "metadata": {},
   "source": [
    "Os parâmetros, **min_detection_confidence** e **min_tracking_confidence**, especificam, respectivamente, o valor mínimo de confiança de detecção da face e o valor mínimo de confiança para o rastreamento dos pontos na face. Podemos parametrizar o valor de confiança entre 0.0 e 1.0. O valor padrão para ambos é 0.5."
   ]
  },
  {
   "cell_type": "code",
   "execution_count": 8,
   "metadata": {},
   "outputs": [],
   "source": [
    "# Instancia a leitura da webcam principal\n",
    "cap = cv2.VideoCapture(0)\n",
    "\n",
    "\n",
    "with mp_face_mesh.FaceMesh(min_detection_confidence=0.5, min_tracking_confidence=0.5) as facemesh:\n",
    "    while cap.isOpened():\n",
    "        # lê a webcam\n",
    "        sucesso, frame = cap.read()\n",
    "\n",
    "        if not sucesso:\n",
    "            print(\"Ignorando o frame vazio da câmera.\")\n",
    "            continue\n",
    "\n",
    "\n",
    "        # Captura as marcações da face\n",
    "        frame = cv2.cvtColor(frame, cv2.COLOR_BGR2RGB)\n",
    "        saida_facemesh = facemesh.process(frame)\n",
    "        frame = cv2.cvtColor(frame, cv2.COLOR_RGB2BGR)\n",
    "\n",
    "\n",
    "        # o Try é usado pois se não houver rostos o programa irá gerar um erro\n",
    "        try:\n",
    "            # Marcação dos pontos faciais encontrados\n",
    "            for face_landmarks in saida_facemesh.multi_face_landmarks:\n",
    "                mp_drawing.draw_landmarks(frame, face_landmarks, mp_face_mesh.FACEMESH_CONTOURS, \n",
    "                                          landmark_drawing_spec = mp_drawing.DrawingSpec(color=(255, 102, 102), thickness=1, circle_radius=1),\n",
    "                                          connection_drawing_spec = mp_drawing.DrawingSpec(color=(102,204,0),thickness=1,circle_radius=1))\n",
    "        except:\n",
    "            pass\n",
    "\n",
    "\n",
    "        # Mostra o frame lido da webcam\n",
    "        cv2.imshow(\"Camera\", frame)\n",
    "\n",
    "        # interrompe o while quando o 'c' é apertado\n",
    "        if cv2.waitKey(10) & 0xFF == ord('c'):\n",
    "            break\n",
    "\n",
    "# solta a webcam e fecha as janelas abertas\n",
    "cap.release()\n",
    "cv2.destroyAllWindows()"
   ]
  },
  {
   "cell_type": "code",
   "execution_count": null,
   "metadata": {},
   "outputs": [],
   "source": []
  }
 ],
 "metadata": {
  "kernelspec": {
   "display_name": "Python 3",
   "language": "python",
   "name": "python3"
  },
  "language_info": {
   "codemirror_mode": {
    "name": "ipython",
    "version": 3
   },
   "file_extension": ".py",
   "mimetype": "text/x-python",
   "name": "python",
   "nbconvert_exporter": "python",
   "pygments_lexer": "ipython3",
   "version": "3.10.6"
  },
  "orig_nbformat": 4
 },
 "nbformat": 4,
 "nbformat_minor": 2
}
